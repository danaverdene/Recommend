{
  "cells": [
    {
      "cell_type": "markdown",
      "metadata": {
        "id": "view-in-github",
        "colab_type": "text"
      },
      "source": [
        "<a href=\"https://colab.research.google.com/github/danaverdene/Recommend/blob/main/deezer_project_final.ipynb\" target=\"_parent\"><img src=\"https://colab.research.google.com/assets/colab-badge.svg\" alt=\"Open In Colab\"/></a>"
      ]
    },
    {
      "cell_type": "markdown",
      "metadata": {
        "id": "vHWSfKczfDkE"
      },
      "source": [
        "# Recommender system for Deezer dataset "
      ]
    },
    {
      "cell_type": "markdown",
      "metadata": {
        "id": "2YQwmZD_fDkF"
      },
      "source": [
        "The markdown contains of the Deezer dataset analysis. The goal is to produce descriptive statistics in order to get more information about the dataset, with intention to propose a suitable recommender system which would connect app users with songs they will listen. "
      ]
    },
    {
      "cell_type": "markdown",
      "metadata": {
        "id": "NP8Aye1RfDkG"
      },
      "source": [
        "## Descriptive statistics "
      ]
    },
    {
      "cell_type": "code",
      "source": [
        "#install packages in the google colab environment\n",
        "!pip install surprise\n",
        "\n",
        "#to be able to open csv file from google drive\n",
        "!pip install -U -q PyDrive\n",
        "\n"
      ],
      "metadata": {
        "colab": {
          "base_uri": "https://localhost:8080/"
        },
        "id": "badKZIjsfgp5",
        "outputId": "f73f68e3-1f19-424e-cde9-6c9c2354941a"
      },
      "execution_count": null,
      "outputs": [
        {
          "output_type": "stream",
          "name": "stdout",
          "text": [
            "Looking in indexes: https://pypi.org/simple, https://us-python.pkg.dev/colab-wheels/public/simple/\n",
            "Requirement already satisfied: surprise in /usr/local/lib/python3.8/dist-packages (0.1)\n",
            "Requirement already satisfied: scikit-surprise in /usr/local/lib/python3.8/dist-packages (from surprise) (1.1.3)\n",
            "Requirement already satisfied: joblib>=1.0.0 in /usr/local/lib/python3.8/dist-packages (from scikit-surprise->surprise) (1.2.0)\n",
            "Requirement already satisfied: scipy>=1.3.2 in /usr/local/lib/python3.8/dist-packages (from scikit-surprise->surprise) (1.10.1)\n",
            "Requirement already satisfied: numpy>=1.17.3 in /usr/local/lib/python3.8/dist-packages (from scikit-surprise->surprise) (1.22.4)\n"
          ]
        }
      ]
    },
    {
      "cell_type": "code",
      "execution_count": null,
      "metadata": {
        "id": "DVbxqF8HfDkG"
      },
      "outputs": [],
      "source": [
        "# Load all packages\n",
        "# pip install scikit-surprise\n",
        "import re\n",
        "import os\n",
        "import glob\n",
        "import plotly\n",
        "import pandas as pd\n",
        "import numpy as np\n",
        "import matplotlib.pyplot as plt\n",
        "import seaborn as sns\n",
        "from pathlib import Path\n",
        "import plotly.express as px\n",
        "from datetime import datetime\n",
        "from surprise import Dataset, Reader, SVD\n",
        "from surprise.model_selection import train_test_split\n",
        "from surprise.model_selection import cross_validate\n",
        "from surprise import accuracy\n",
        "\n",
        "\n"
      ]
    },
    {
      "cell_type": "code",
      "source": [
        "#loading additional packages to be able to open files from google drive\n",
        "from pydrive.auth import GoogleAuth\n",
        "from pydrive.drive import GoogleDrive\n",
        "from google.colab import auth\n",
        "from oauth2client.client import GoogleCredentials\n",
        "from google.colab import drive"
      ],
      "metadata": {
        "id": "RtQl_CXQighX"
      },
      "execution_count": null,
      "outputs": []
    },
    {
      "cell_type": "code",
      "source": [
        "# Authenticate and create the PyDrive client.\n",
        "auth.authenticate_user()\n",
        "gauth = GoogleAuth()\n",
        "gauth.credentials = GoogleCredentials.get_application_default()\n",
        "drive = GoogleDrive(gauth)"
      ],
      "metadata": {
        "id": "cX50S1-Viqws"
      },
      "execution_count": null,
      "outputs": []
    },
    {
      "cell_type": "code",
      "execution_count": null,
      "metadata": {
        "id": "790kJwrcfDkH"
      },
      "outputs": [],
      "source": [
        "#needed to change in order to access the data in my VS code environment\n",
        "# Import CSV file\n",
        "#data_path_processed = Path(os.path.abspath('')) / \"../data/\"\n",
        "#data_deezer = pd.read_csv(f'{data_path_processed}/train.csv',keep_default_na=False, na_values='NULL')"
      ]
    },
    {
      "cell_type": "code",
      "source": [
        "#loading the train file from google drive - step 1\n",
        "\n",
        "link = \"https://drive.google.com/file/d/1N-Hd8MbK-9X4BwPdQsF2V-fWFBaeDwlt\"\n",
        "fluff, id = link.split('d/')\n",
        "print(id) # Verify that you have everything after 'd/'\n"
      ],
      "metadata": {
        "colab": {
          "base_uri": "https://localhost:8080/"
        },
        "id": "Jw7s96Lvhe5s",
        "outputId": "25524c9a-361c-40c7-d7d7-d88fa3d6c199"
      },
      "execution_count": null,
      "outputs": [
        {
          "output_type": "stream",
          "name": "stdout",
          "text": [
            "1N-Hd8MbK-9X4BwPdQsF2V-fWFBaeDwlt\n"
          ]
        }
      ]
    },
    {
      "cell_type": "code",
      "source": [
        "#loading the train file from google drive - step 2\n",
        "downloaded = drive.CreateFile({'id':id}) \n",
        "downloaded.GetContentFile('train.csv')\n",
        "data_deezer = pd.read_csv(\"train.csv\", keep_default_na=False, na_values=\"NULL\")\n"
      ],
      "metadata": {
        "id": "hbHgo_n9jspm"
      },
      "execution_count": null,
      "outputs": []
    },
    {
      "cell_type": "code",
      "execution_count": null,
      "metadata": {
        "colab": {
          "base_uri": "https://localhost:8080/"
        },
        "id": "IhEoU3McfDkH",
        "outputId": "9746d5ac-4675-45aa-e0e8-ee57fe9eb330"
      },
      "outputs": [
        {
          "output_type": "stream",
          "name": "stdout",
          "text": [
            "In the deezer dataset there are 7558834 observations.\n"
          ]
        }
      ],
      "source": [
        "print(f'In the deezer dataset there are {len(data_deezer)} observations.')"
      ]
    },
    {
      "cell_type": "code",
      "execution_count": null,
      "metadata": {
        "colab": {
          "base_uri": "https://localhost:8080/"
        },
        "id": "eFo6iuV3fDkI",
        "outputId": "4d37d974-b403-4b57-834e-9959dee954f1"
      },
      "outputs": [
        {
          "output_type": "execute_result",
          "data": {
            "text/plain": [
              "genre_id           7558834\n",
              "ts_listen          7558834\n",
              "media_id           7558834\n",
              "album_id           7558834\n",
              "context_type       7558834\n",
              "release_date       7558834\n",
              "platform_name      7558834\n",
              "platform_family    7558834\n",
              "media_duration     7558834\n",
              "listen_type        7558834\n",
              "user_gender        7558834\n",
              "user_id            7558834\n",
              "artist_id          7558834\n",
              "user_age           7558834\n",
              "is_listened        7558834\n",
              "dtype: int64"
            ]
          },
          "metadata": {},
          "execution_count": 8
        }
      ],
      "source": [
        "data_deezer.count()"
      ]
    },
    {
      "cell_type": "code",
      "execution_count": null,
      "metadata": {
        "colab": {
          "base_uri": "https://localhost:8080/",
          "height": 427
        },
        "id": "pgguk8fIfDkI",
        "outputId": "7de6806b-89ed-4aa7-878b-3a6c3168b280"
      },
      "outputs": [
        {
          "output_type": "execute_result",
          "data": {
            "text/plain": [
              "   genre_id   ts_listen  media_id  album_id  context_type  release_date  \\\n",
              "0     25471  1480597215    222606     41774            12      20040704   \n",
              "1     25571  1480544735    250467     43941             0      20060301   \n",
              "2        16  1479563953    305197     48078             1      20140714   \n",
              "3         7  1480152098    900502     71521             0      20001030   \n",
              "4         7  1478368974    542335     71718             0      20080215   \n",
              "5         7  1478382544    542335     71718             0      20080215   \n",
              "6         7  1478338409    542335     71718             0      20080215   \n",
              "7         7  1478353709    542335     71718             1      20080215   \n",
              "8         7  1479130924    542335     71718             0      20080215   \n",
              "9         7  1479214304    542335     71718             1      20080215   \n",
              "\n",
              "   platform_name  platform_family  media_duration  listen_type  user_gender  \\\n",
              "0              1                0             223            0            0   \n",
              "1              2                1             171            0            0   \n",
              "2              2                1             149            1            1   \n",
              "3              0                0             240            0            1   \n",
              "4              0                0             150            0            1   \n",
              "5              0                0             150            0            1   \n",
              "6              0                0             150            0            1   \n",
              "7              1                0             150            1            1   \n",
              "8              0                0             150            0            1   \n",
              "9              1                2             150            1            1   \n",
              "\n",
              "   user_id  artist_id  user_age  is_listened  \n",
              "0     9241      55164        29            0  \n",
              "1    16547      55830        30            1  \n",
              "2     7665       2704        29            1  \n",
              "3     1580        938        30            0  \n",
              "4     1812       2939        24            1  \n",
              "5     1812       2939        24            1  \n",
              "6     1812       2939        24            1  \n",
              "7    10325       2939        29            1  \n",
              "8     1812       2939        24            1  \n",
              "9       51       2939        28            1  "
            ],
            "text/html": [
              "\n",
              "  <div id=\"df-a6aa1eec-5daf-4050-9e1b-940d8a5715ba\">\n",
              "    <div class=\"colab-df-container\">\n",
              "      <div>\n",
              "<style scoped>\n",
              "    .dataframe tbody tr th:only-of-type {\n",
              "        vertical-align: middle;\n",
              "    }\n",
              "\n",
              "    .dataframe tbody tr th {\n",
              "        vertical-align: top;\n",
              "    }\n",
              "\n",
              "    .dataframe thead th {\n",
              "        text-align: right;\n",
              "    }\n",
              "</style>\n",
              "<table border=\"1\" class=\"dataframe\">\n",
              "  <thead>\n",
              "    <tr style=\"text-align: right;\">\n",
              "      <th></th>\n",
              "      <th>genre_id</th>\n",
              "      <th>ts_listen</th>\n",
              "      <th>media_id</th>\n",
              "      <th>album_id</th>\n",
              "      <th>context_type</th>\n",
              "      <th>release_date</th>\n",
              "      <th>platform_name</th>\n",
              "      <th>platform_family</th>\n",
              "      <th>media_duration</th>\n",
              "      <th>listen_type</th>\n",
              "      <th>user_gender</th>\n",
              "      <th>user_id</th>\n",
              "      <th>artist_id</th>\n",
              "      <th>user_age</th>\n",
              "      <th>is_listened</th>\n",
              "    </tr>\n",
              "  </thead>\n",
              "  <tbody>\n",
              "    <tr>\n",
              "      <th>0</th>\n",
              "      <td>25471</td>\n",
              "      <td>1480597215</td>\n",
              "      <td>222606</td>\n",
              "      <td>41774</td>\n",
              "      <td>12</td>\n",
              "      <td>20040704</td>\n",
              "      <td>1</td>\n",
              "      <td>0</td>\n",
              "      <td>223</td>\n",
              "      <td>0</td>\n",
              "      <td>0</td>\n",
              "      <td>9241</td>\n",
              "      <td>55164</td>\n",
              "      <td>29</td>\n",
              "      <td>0</td>\n",
              "    </tr>\n",
              "    <tr>\n",
              "      <th>1</th>\n",
              "      <td>25571</td>\n",
              "      <td>1480544735</td>\n",
              "      <td>250467</td>\n",
              "      <td>43941</td>\n",
              "      <td>0</td>\n",
              "      <td>20060301</td>\n",
              "      <td>2</td>\n",
              "      <td>1</td>\n",
              "      <td>171</td>\n",
              "      <td>0</td>\n",
              "      <td>0</td>\n",
              "      <td>16547</td>\n",
              "      <td>55830</td>\n",
              "      <td>30</td>\n",
              "      <td>1</td>\n",
              "    </tr>\n",
              "    <tr>\n",
              "      <th>2</th>\n",
              "      <td>16</td>\n",
              "      <td>1479563953</td>\n",
              "      <td>305197</td>\n",
              "      <td>48078</td>\n",
              "      <td>1</td>\n",
              "      <td>20140714</td>\n",
              "      <td>2</td>\n",
              "      <td>1</td>\n",
              "      <td>149</td>\n",
              "      <td>1</td>\n",
              "      <td>1</td>\n",
              "      <td>7665</td>\n",
              "      <td>2704</td>\n",
              "      <td>29</td>\n",
              "      <td>1</td>\n",
              "    </tr>\n",
              "    <tr>\n",
              "      <th>3</th>\n",
              "      <td>7</td>\n",
              "      <td>1480152098</td>\n",
              "      <td>900502</td>\n",
              "      <td>71521</td>\n",
              "      <td>0</td>\n",
              "      <td>20001030</td>\n",
              "      <td>0</td>\n",
              "      <td>0</td>\n",
              "      <td>240</td>\n",
              "      <td>0</td>\n",
              "      <td>1</td>\n",
              "      <td>1580</td>\n",
              "      <td>938</td>\n",
              "      <td>30</td>\n",
              "      <td>0</td>\n",
              "    </tr>\n",
              "    <tr>\n",
              "      <th>4</th>\n",
              "      <td>7</td>\n",
              "      <td>1478368974</td>\n",
              "      <td>542335</td>\n",
              "      <td>71718</td>\n",
              "      <td>0</td>\n",
              "      <td>20080215</td>\n",
              "      <td>0</td>\n",
              "      <td>0</td>\n",
              "      <td>150</td>\n",
              "      <td>0</td>\n",
              "      <td>1</td>\n",
              "      <td>1812</td>\n",
              "      <td>2939</td>\n",
              "      <td>24</td>\n",
              "      <td>1</td>\n",
              "    </tr>\n",
              "    <tr>\n",
              "      <th>5</th>\n",
              "      <td>7</td>\n",
              "      <td>1478382544</td>\n",
              "      <td>542335</td>\n",
              "      <td>71718</td>\n",
              "      <td>0</td>\n",
              "      <td>20080215</td>\n",
              "      <td>0</td>\n",
              "      <td>0</td>\n",
              "      <td>150</td>\n",
              "      <td>0</td>\n",
              "      <td>1</td>\n",
              "      <td>1812</td>\n",
              "      <td>2939</td>\n",
              "      <td>24</td>\n",
              "      <td>1</td>\n",
              "    </tr>\n",
              "    <tr>\n",
              "      <th>6</th>\n",
              "      <td>7</td>\n",
              "      <td>1478338409</td>\n",
              "      <td>542335</td>\n",
              "      <td>71718</td>\n",
              "      <td>0</td>\n",
              "      <td>20080215</td>\n",
              "      <td>0</td>\n",
              "      <td>0</td>\n",
              "      <td>150</td>\n",
              "      <td>0</td>\n",
              "      <td>1</td>\n",
              "      <td>1812</td>\n",
              "      <td>2939</td>\n",
              "      <td>24</td>\n",
              "      <td>1</td>\n",
              "    </tr>\n",
              "    <tr>\n",
              "      <th>7</th>\n",
              "      <td>7</td>\n",
              "      <td>1478353709</td>\n",
              "      <td>542335</td>\n",
              "      <td>71718</td>\n",
              "      <td>1</td>\n",
              "      <td>20080215</td>\n",
              "      <td>1</td>\n",
              "      <td>0</td>\n",
              "      <td>150</td>\n",
              "      <td>1</td>\n",
              "      <td>1</td>\n",
              "      <td>10325</td>\n",
              "      <td>2939</td>\n",
              "      <td>29</td>\n",
              "      <td>1</td>\n",
              "    </tr>\n",
              "    <tr>\n",
              "      <th>8</th>\n",
              "      <td>7</td>\n",
              "      <td>1479130924</td>\n",
              "      <td>542335</td>\n",
              "      <td>71718</td>\n",
              "      <td>0</td>\n",
              "      <td>20080215</td>\n",
              "      <td>0</td>\n",
              "      <td>0</td>\n",
              "      <td>150</td>\n",
              "      <td>0</td>\n",
              "      <td>1</td>\n",
              "      <td>1812</td>\n",
              "      <td>2939</td>\n",
              "      <td>24</td>\n",
              "      <td>1</td>\n",
              "    </tr>\n",
              "    <tr>\n",
              "      <th>9</th>\n",
              "      <td>7</td>\n",
              "      <td>1479214304</td>\n",
              "      <td>542335</td>\n",
              "      <td>71718</td>\n",
              "      <td>1</td>\n",
              "      <td>20080215</td>\n",
              "      <td>1</td>\n",
              "      <td>2</td>\n",
              "      <td>150</td>\n",
              "      <td>1</td>\n",
              "      <td>1</td>\n",
              "      <td>51</td>\n",
              "      <td>2939</td>\n",
              "      <td>28</td>\n",
              "      <td>1</td>\n",
              "    </tr>\n",
              "  </tbody>\n",
              "</table>\n",
              "</div>\n",
              "      <button class=\"colab-df-convert\" onclick=\"convertToInteractive('df-a6aa1eec-5daf-4050-9e1b-940d8a5715ba')\"\n",
              "              title=\"Convert this dataframe to an interactive table.\"\n",
              "              style=\"display:none;\">\n",
              "        \n",
              "  <svg xmlns=\"http://www.w3.org/2000/svg\" height=\"24px\"viewBox=\"0 0 24 24\"\n",
              "       width=\"24px\">\n",
              "    <path d=\"M0 0h24v24H0V0z\" fill=\"none\"/>\n",
              "    <path d=\"M18.56 5.44l.94 2.06.94-2.06 2.06-.94-2.06-.94-.94-2.06-.94 2.06-2.06.94zm-11 1L8.5 8.5l.94-2.06 2.06-.94-2.06-.94L8.5 2.5l-.94 2.06-2.06.94zm10 10l.94 2.06.94-2.06 2.06-.94-2.06-.94-.94-2.06-.94 2.06-2.06.94z\"/><path d=\"M17.41 7.96l-1.37-1.37c-.4-.4-.92-.59-1.43-.59-.52 0-1.04.2-1.43.59L10.3 9.45l-7.72 7.72c-.78.78-.78 2.05 0 2.83L4 21.41c.39.39.9.59 1.41.59.51 0 1.02-.2 1.41-.59l7.78-7.78 2.81-2.81c.8-.78.8-2.07 0-2.86zM5.41 20L4 18.59l7.72-7.72 1.47 1.35L5.41 20z\"/>\n",
              "  </svg>\n",
              "      </button>\n",
              "      \n",
              "  <style>\n",
              "    .colab-df-container {\n",
              "      display:flex;\n",
              "      flex-wrap:wrap;\n",
              "      gap: 12px;\n",
              "    }\n",
              "\n",
              "    .colab-df-convert {\n",
              "      background-color: #E8F0FE;\n",
              "      border: none;\n",
              "      border-radius: 50%;\n",
              "      cursor: pointer;\n",
              "      display: none;\n",
              "      fill: #1967D2;\n",
              "      height: 32px;\n",
              "      padding: 0 0 0 0;\n",
              "      width: 32px;\n",
              "    }\n",
              "\n",
              "    .colab-df-convert:hover {\n",
              "      background-color: #E2EBFA;\n",
              "      box-shadow: 0px 1px 2px rgba(60, 64, 67, 0.3), 0px 1px 3px 1px rgba(60, 64, 67, 0.15);\n",
              "      fill: #174EA6;\n",
              "    }\n",
              "\n",
              "    [theme=dark] .colab-df-convert {\n",
              "      background-color: #3B4455;\n",
              "      fill: #D2E3FC;\n",
              "    }\n",
              "\n",
              "    [theme=dark] .colab-df-convert:hover {\n",
              "      background-color: #434B5C;\n",
              "      box-shadow: 0px 1px 3px 1px rgba(0, 0, 0, 0.15);\n",
              "      filter: drop-shadow(0px 1px 2px rgba(0, 0, 0, 0.3));\n",
              "      fill: #FFFFFF;\n",
              "    }\n",
              "  </style>\n",
              "\n",
              "      <script>\n",
              "        const buttonEl =\n",
              "          document.querySelector('#df-a6aa1eec-5daf-4050-9e1b-940d8a5715ba button.colab-df-convert');\n",
              "        buttonEl.style.display =\n",
              "          google.colab.kernel.accessAllowed ? 'block' : 'none';\n",
              "\n",
              "        async function convertToInteractive(key) {\n",
              "          const element = document.querySelector('#df-a6aa1eec-5daf-4050-9e1b-940d8a5715ba');\n",
              "          const dataTable =\n",
              "            await google.colab.kernel.invokeFunction('convertToInteractive',\n",
              "                                                     [key], {});\n",
              "          if (!dataTable) return;\n",
              "\n",
              "          const docLinkHtml = 'Like what you see? Visit the ' +\n",
              "            '<a target=\"_blank\" href=https://colab.research.google.com/notebooks/data_table.ipynb>data table notebook</a>'\n",
              "            + ' to learn more about interactive tables.';\n",
              "          element.innerHTML = '';\n",
              "          dataTable['output_type'] = 'display_data';\n",
              "          await google.colab.output.renderOutput(dataTable, element);\n",
              "          const docLink = document.createElement('div');\n",
              "          docLink.innerHTML = docLinkHtml;\n",
              "          element.appendChild(docLink);\n",
              "        }\n",
              "      </script>\n",
              "    </div>\n",
              "  </div>\n",
              "  "
            ]
          },
          "metadata": {},
          "execution_count": 9
        }
      ],
      "source": [
        "data_deezer.head(10)"
      ]
    },
    {
      "cell_type": "markdown",
      "metadata": {
        "id": "fOOZCKysfDkI"
      },
      "source": [
        "### Data fields\n",
        "media_id - identifiant of the song listened by the user  \n",
        "album_id - identifiant of the album of the song  \n",
        "media_duration - duration of the song  \n",
        "user_gender -  gender of the user  \n",
        "user_id -  anonymized id of the user  \n",
        "context_type - type of content where the song was listened: playlist, album ...  \n",
        "release_date - release date of the song with the format YYYYMMDD  \n",
        "ts_listen - timestamp of the listening in UNIX time  \n",
        "platform_name - type of os  \n",
        "platform_family - type of device  \n",
        "user_age - age of the user  \n",
        "listen_type - if the songs was listened in a flow or not  \n",
        "artist_id - identifiant of the artist of the song  \n",
        "genre_id - identifiant of the genre of the song  \n",
        "is_listened - 1 if the track was listened, 0 otherwise  \n"
      ]
    },
    {
      "cell_type": "markdown",
      "metadata": {
        "id": "vj545D3HfDkJ"
      },
      "source": [
        "The variable we are interested in is is_listened. If the track was listened by the user for at least 30 seconds the variable has value 1, which means that the recommendation was suitable and matched user preferences. Otherwise the value is 0. The goal is to increase the number of 1."
      ]
    },
    {
      "cell_type": "code",
      "execution_count": null,
      "metadata": {
        "colab": {
          "base_uri": "https://localhost:8080/"
        },
        "id": "O5PmbUYQfDkJ",
        "outputId": "2717cc2b-a8f0-4891-eb5d-70eba2ac0318"
      },
      "outputs": [
        {
          "output_type": "stream",
          "name": "stdout",
          "text": [
            "genre_id: 2922\n",
            "ts_listen: 2256230\n",
            "media_id: 452975\n",
            "album_id: 151471\n",
            "context_type: 74\n",
            "release_date: 8902\n",
            "platform_name: 3\n",
            "platform_family: 3\n",
            "media_duration: 1652\n",
            "listen_type: 2\n",
            "user_gender: 2\n",
            "user_id: 19918\n",
            "artist_id: 67142\n",
            "user_age: 13\n",
            "is_listened: 2\n"
          ]
        }
      ],
      "source": [
        "# counting unique values for each variable\n",
        "for col in data_deezer.columns:\n",
        "    unique_values = data_deezer[col].nunique()\n",
        "    print(f\"{col}: {unique_values}\")"
      ]
    },
    {
      "cell_type": "markdown",
      "metadata": {
        "id": "mz6_iNrHfDkJ"
      },
      "source": [
        "In the dataset, we have many unique values for variables, e.g. 2 922 unique types of genres, 67k different artists, almost 20k unique users in 13 different age groups. In order to get better overview, we select few variables and produce visual analysis."
      ]
    },
    {
      "cell_type": "code",
      "execution_count": null,
      "metadata": {
        "colab": {
          "base_uri": "https://localhost:8080/",
          "height": 282
        },
        "id": "q3WvNG0UfDkJ",
        "outputId": "781f0942-8f51-4972-bed0-11308b9cea26"
      },
      "outputs": [
        {
          "output_type": "display_data",
          "data": {
            "text/plain": [
              "<Figure size 432x288 with 1 Axes>"
            ],
            "image/png": "[encoded data removed]"
          },
          "metadata": {
            "needs_background": "light"
          }
        }
      ],
      "source": [
        "# group the data by user_age and count the number of rows in each group\n",
        "age_counts = data_deezer[['user_id', 'user_age']].groupby('user_age').nunique().reset_index()\n",
        "\n",
        "# plot a bar chart\n",
        "age_counts.plot(x = 'user_age', y = 'user_id',kind='bar', legend=False)\n",
        "plt.xlabel('User Age') \n",
        "plt.ylabel('Number of users')\n",
        "plt.show()"
      ]
    },
    {
      "cell_type": "markdown",
      "metadata": {
        "id": "HcLuWBRafDkK"
      },
      "source": [
        "App users in the dataset are approximately evenly distibuted between age groups. "
      ]
    },
    {
      "cell_type": "code",
      "execution_count": null,
      "metadata": {
        "colab": {
          "base_uri": "https://localhost:8080/",
          "height": 306
        },
        "id": "WtwZ6kCSfDkK",
        "outputId": "6f90c63a-89e9-4d2c-80c1-60668f260d6b"
      },
      "outputs": [
        {
          "output_type": "display_data",
          "data": {
            "text/plain": [
              "<Figure size 432x288 with 1 Axes>"
            ],
            "image/png": "[encoded data removed]"
          },
          "metadata": {
            "needs_background": "light"
          }
        }
      ],
      "source": [
        "gender_counts = data_deezer[['user_id', 'user_gender']].groupby('user_gender').nunique().reset_index()\n",
        "\n",
        "# create a plot\n",
        "ax = gender_counts.plot(x = 'user_gender', y = 'user_id', kind='bar',legend = False)\n",
        "plt.ylabel('Number of users')\n",
        "ax.set_xticklabels(['Male', 'Female'])\n",
        "plt.show()"
      ]
    },
    {
      "cell_type": "markdown",
      "metadata": {
        "id": "dZk4FYw2fDkK"
      },
      "source": [
        "Males are prevailing app users."
      ]
    },
    {
      "cell_type": "code",
      "execution_count": null,
      "metadata": {
        "colab": {
          "base_uri": "https://localhost:8080/",
          "height": 369
        },
        "id": "A9yK1-YZfDkK",
        "outputId": "683a8234-8ba8-469b-97d0-801c5bcc83f9"
      },
      "outputs": [
        {
          "output_type": "display_data",
          "data": {
            "text/plain": [
              "<Figure size 432x288 with 1 Axes>"
            ],
            "image/png": "[encoded data removed]"
          },
          "metadata": {
            "needs_background": "light"
          }
        },
        {
          "output_type": "stream",
          "name": "stdout",
          "text": [
            "1    0.684033\n",
            "0    0.315967\n",
            "Name: is_listened, dtype: float64\n"
          ]
        }
      ],
      "source": [
        "# count the number of occurrences of each value in the is_listened column\n",
        "counts = data_deezer['is_listened'].value_counts()\n",
        "\n",
        "# create a plot\n",
        "counts.plot(kind='bar')\n",
        "plt.ylabel('Number of songs')\n",
        "plt.xticks([0, 1],[\"listened\", \"not listened\"])\n",
        "plt.yticks([0, 1000000, 2000000, 3000000, 4000000, 5000000], [\"0\", \"1B\", \"2B\", \"3B\", \"4B\", \"5B\"])\n",
        "plt.show()\n",
        "\n",
        "proportions = counts / len(data_deezer)\n",
        "print(proportions)"
      ]
    },
    {
      "cell_type": "markdown",
      "metadata": {
        "id": "698XG3TUfDkK"
      },
      "source": [
        "Currently, the probability of song to be listened is 68%"
      ]
    },
    {
      "cell_type": "code",
      "execution_count": null,
      "metadata": {
        "colab": {
          "base_uri": "https://localhost:8080/",
          "height": 279
        },
        "id": "XoS98n0vfDkK",
        "outputId": "80257573-085b-4158-818e-77c89e6168c3"
      },
      "outputs": [
        {
          "output_type": "display_data",
          "data": {
            "text/plain": [
              "<Figure size 432x288 with 1 Axes>"
            ],
            "image/png": "[encoded data removed]"
          },
          "metadata": {
            "needs_background": "light"
          }
        }
      ],
      "source": [
        "# count number of users that listen to the number of songs\n",
        "user_counts = data_deezer[['media_id', 'user_id']].groupby('user_id').count().reset_index().groupby('media_id').count().reset_index() \n",
        "user_counts = user_counts.rename(columns={'media_id':'number_of_songs', 'user_id':'number_of_users'})\n",
        "\n",
        "plt.scatter(y='number_of_songs', x= 'number_of_users', data=user_counts, s = 10)\n",
        "plt.xlabel('Number of users')\n",
        "plt.ylabel('Number of songs')\n",
        "plt.show()\n"
      ]
    },
    {
      "cell_type": "markdown",
      "metadata": {
        "id": "WW2RFIhvfDkL"
      },
      "source": [
        "Here we wanted to analyse how active app users are. From the graph above we see that the large amount of users listen to less than 2000 songs. There are approximately 250 users that don't listen or listen only few songs. Overall, it is hard to draw a conclusion from this graph due to extreme points. So we plot new graph to focus on left lower part of the graph:"
      ]
    },
    {
      "cell_type": "code",
      "execution_count": null,
      "metadata": {
        "colab": {
          "base_uri": "https://localhost:8080/",
          "height": 279
        },
        "id": "dAiV0bX0fDkL",
        "outputId": "706e6c5c-072a-406a-f35f-2e9046772bd6"
      },
      "outputs": [
        {
          "output_type": "display_data",
          "data": {
            "text/plain": [
              "<Figure size 432x288 with 1 Axes>"
            ],
            "image/png": "[encoded data removed]"
          },
          "metadata": {
            "needs_background": "light"
          }
        }
      ],
      "source": [
        "plt.scatter(y='number_of_songs', x= 'number_of_users', data=user_counts, s = 10)\n",
        "plt.xlabel('Number of users')\n",
        "plt.ylabel('Number of songs')\n",
        "plt.xlim(0, 100)\n",
        "plt.ylim(0, 1500)\n",
        "plt.show()"
      ]
    },
    {
      "cell_type": "markdown",
      "metadata": {
        "id": "Eun2fr3NfDkL"
      },
      "source": [
        "Basically, the conclusion here could be that users are quite active, for each number of songs value higher than 200 corresponds around 20 or fewer listeners. "
      ]
    },
    {
      "cell_type": "code",
      "execution_count": null,
      "metadata": {
        "colab": {
          "base_uri": "https://localhost:8080/",
          "height": 443
        },
        "id": "XV7v7NgCfDkL",
        "outputId": "9d7a3c0c-3360-40f9-c1a1-4935819a01c1"
      },
      "outputs": [
        {
          "output_type": "execute_result",
          "data": {
            "text/plain": [
              "   genre_id   ts_listen  media_id  album_id  context_type  release_date  \\\n",
              "0     25471  1480597215    222606     41774            12      20040704   \n",
              "1     25571  1480544735    250467     43941             0      20060301   \n",
              "2        16  1479563953    305197     48078             1      20140714   \n",
              "3         7  1480152098    900502     71521             0      20001030   \n",
              "4         7  1478368974    542335     71718             0      20080215   \n",
              "\n",
              "   platform_name  platform_family  media_duration  listen_type  user_gender  \\\n",
              "0              1                0             223            0            0   \n",
              "1              2                1             171            0            0   \n",
              "2              2                1             149            1            1   \n",
              "3              0                0             240            0            1   \n",
              "4              0                0             150            0            1   \n",
              "\n",
              "   user_id  artist_id  user_age  is_listened           dt_listen  \n",
              "0     9241      55164        29            0 2016-12-01 13:00:15  \n",
              "1    16547      55830        30            1 2016-11-30 22:25:35  \n",
              "2     7665       2704        29            1 2016-11-19 13:59:13  \n",
              "3     1580        938        30            0 2016-11-26 09:21:38  \n",
              "4     1812       2939        24            1 2016-11-05 18:02:54  "
            ],
            "text/html": [
              "\n",
              "  <div id=\"df-de49e4a9-3929-4623-bedb-aee7f87b4b7b\">\n",
              "    <div class=\"colab-df-container\">\n",
              "      <div>\n",
              "<style scoped>\n",
              "    .dataframe tbody tr th:only-of-type {\n",
              "        vertical-align: middle;\n",
              "    }\n",
              "\n",
              "    .dataframe tbody tr th {\n",
              "        vertical-align: top;\n",
              "    }\n",
              "\n",
              "    .dataframe thead th {\n",
              "        text-align: right;\n",
              "    }\n",
              "</style>\n",
              "<table border=\"1\" class=\"dataframe\">\n",
              "  <thead>\n",
              "    <tr style=\"text-align: right;\">\n",
              "      <th></th>\n",
              "      <th>genre_id</th>\n",
              "      <th>ts_listen</th>\n",
              "      <th>media_id</th>\n",
              "      <th>album_id</th>\n",
              "      <th>context_type</th>\n",
              "      <th>release_date</th>\n",
              "      <th>platform_name</th>\n",
              "      <th>platform_family</th>\n",
              "      <th>media_duration</th>\n",
              "      <th>listen_type</th>\n",
              "      <th>user_gender</th>\n",
              "      <th>user_id</th>\n",
              "      <th>artist_id</th>\n",
              "      <th>user_age</th>\n",
              "      <th>is_listened</th>\n",
              "      <th>dt_listen</th>\n",
              "    </tr>\n",
              "  </thead>\n",
              "  <tbody>\n",
              "    <tr>\n",
              "      <th>0</th>\n",
              "      <td>25471</td>\n",
              "      <td>1480597215</td>\n",
              "      <td>222606</td>\n",
              "      <td>41774</td>\n",
              "      <td>12</td>\n",
              "      <td>20040704</td>\n",
              "      <td>1</td>\n",
              "      <td>0</td>\n",
              "      <td>223</td>\n",
              "      <td>0</td>\n",
              "      <td>0</td>\n",
              "      <td>9241</td>\n",
              "      <td>55164</td>\n",
              "      <td>29</td>\n",
              "      <td>0</td>\n",
              "      <td>2016-12-01 13:00:15</td>\n",
              "    </tr>\n",
              "    <tr>\n",
              "      <th>1</th>\n",
              "      <td>25571</td>\n",
              "      <td>1480544735</td>\n",
              "      <td>250467</td>\n",
              "      <td>43941</td>\n",
              "      <td>0</td>\n",
              "      <td>20060301</td>\n",
              "      <td>2</td>\n",
              "      <td>1</td>\n",
              "      <td>171</td>\n",
              "      <td>0</td>\n",
              "      <td>0</td>\n",
              "      <td>16547</td>\n",
              "      <td>55830</td>\n",
              "      <td>30</td>\n",
              "      <td>1</td>\n",
              "      <td>2016-11-30 22:25:35</td>\n",
              "    </tr>\n",
              "    <tr>\n",
              "      <th>2</th>\n",
              "      <td>16</td>\n",
              "      <td>1479563953</td>\n",
              "      <td>305197</td>\n",
              "      <td>48078</td>\n",
              "      <td>1</td>\n",
              "      <td>20140714</td>\n",
              "      <td>2</td>\n",
              "      <td>1</td>\n",
              "      <td>149</td>\n",
              "      <td>1</td>\n",
              "      <td>1</td>\n",
              "      <td>7665</td>\n",
              "      <td>2704</td>\n",
              "      <td>29</td>\n",
              "      <td>1</td>\n",
              "      <td>2016-11-19 13:59:13</td>\n",
              "    </tr>\n",
              "    <tr>\n",
              "      <th>3</th>\n",
              "      <td>7</td>\n",
              "      <td>1480152098</td>\n",
              "      <td>900502</td>\n",
              "      <td>71521</td>\n",
              "      <td>0</td>\n",
              "      <td>20001030</td>\n",
              "      <td>0</td>\n",
              "      <td>0</td>\n",
              "      <td>240</td>\n",
              "      <td>0</td>\n",
              "      <td>1</td>\n",
              "      <td>1580</td>\n",
              "      <td>938</td>\n",
              "      <td>30</td>\n",
              "      <td>0</td>\n",
              "      <td>2016-11-26 09:21:38</td>\n",
              "    </tr>\n",
              "    <tr>\n",
              "      <th>4</th>\n",
              "      <td>7</td>\n",
              "      <td>1478368974</td>\n",
              "      <td>542335</td>\n",
              "      <td>71718</td>\n",
              "      <td>0</td>\n",
              "      <td>20080215</td>\n",
              "      <td>0</td>\n",
              "      <td>0</td>\n",
              "      <td>150</td>\n",
              "      <td>0</td>\n",
              "      <td>1</td>\n",
              "      <td>1812</td>\n",
              "      <td>2939</td>\n",
              "      <td>24</td>\n",
              "      <td>1</td>\n",
              "      <td>2016-11-05 18:02:54</td>\n",
              "    </tr>\n",
              "  </tbody>\n",
              "</table>\n",
              "</div>\n",
              "      <button class=\"colab-df-convert\" onclick=\"convertToInteractive('df-de49e4a9-3929-4623-bedb-aee7f87b4b7b')\"\n",
              "              title=\"Convert this dataframe to an interactive table.\"\n",
              "              style=\"display:none;\">\n",
              "        \n",
              "  <svg xmlns=\"http://www.w3.org/2000/svg\" height=\"24px\"viewBox=\"0 0 24 24\"\n",
              "       width=\"24px\">\n",
              "    <path d=\"M0 0h24v24H0V0z\" fill=\"none\"/>\n",
              "    <path d=\"M18.56 5.44l.94 2.06.94-2.06 2.06-.94-2.06-.94-.94-2.06-.94 2.06-2.06.94zm-11 1L8.5 8.5l.94-2.06 2.06-.94-2.06-.94L8.5 2.5l-.94 2.06-2.06.94zm10 10l.94 2.06.94-2.06 2.06-.94-2.06-.94-.94-2.06-.94 2.06-2.06.94z\"/><path d=\"M17.41 7.96l-1.37-1.37c-.4-.4-.92-.59-1.43-.59-.52 0-1.04.2-1.43.59L10.3 9.45l-7.72 7.72c-.78.78-.78 2.05 0 2.83L4 21.41c.39.39.9.59 1.41.59.51 0 1.02-.2 1.41-.59l7.78-7.78 2.81-2.81c.8-.78.8-2.07 0-2.86zM5.41 20L4 18.59l7.72-7.72 1.47 1.35L5.41 20z\"/>\n",
              "  </svg>\n",
              "      </button>\n",
              "      \n",
              "  <style>\n",
              "    .colab-df-container {\n",
              "      display:flex;\n",
              "      flex-wrap:wrap;\n",
              "      gap: 12px;\n",
              "    }\n",
              "\n",
              "    .colab-df-convert {\n",
              "      background-color: #E8F0FE;\n",
              "      border: none;\n",
              "      border-radius: 50%;\n",
              "      cursor: pointer;\n",
              "      display: none;\n",
              "      fill: #1967D2;\n",
              "      height: 32px;\n",
              "      padding: 0 0 0 0;\n",
              "      width: 32px;\n",
              "    }\n",
              "\n",
              "    .colab-df-convert:hover {\n",
              "      background-color: #E2EBFA;\n",
              "      box-shadow: 0px 1px 2px rgba(60, 64, 67, 0.3), 0px 1px 3px 1px rgba(60, 64, 67, 0.15);\n",
              "      fill: #174EA6;\n",
              "    }\n",
              "\n",
              "    [theme=dark] .colab-df-convert {\n",
              "      background-color: #3B4455;\n",
              "      fill: #D2E3FC;\n",
              "    }\n",
              "\n",
              "    [theme=dark] .colab-df-convert:hover {\n",
              "      background-color: #434B5C;\n",
              "      box-shadow: 0px 1px 3px 1px rgba(0, 0, 0, 0.15);\n",
              "      filter: drop-shadow(0px 1px 2px rgba(0, 0, 0, 0.3));\n",
              "      fill: #FFFFFF;\n",
              "    }\n",
              "  </style>\n",
              "\n",
              "      <script>\n",
              "        const buttonEl =\n",
              "          document.querySelector('#df-de49e4a9-3929-4623-bedb-aee7f87b4b7b button.colab-df-convert');\n",
              "        buttonEl.style.display =\n",
              "          google.colab.kernel.accessAllowed ? 'block' : 'none';\n",
              "\n",
              "        async function convertToInteractive(key) {\n",
              "          const element = document.querySelector('#df-de49e4a9-3929-4623-bedb-aee7f87b4b7b');\n",
              "          const dataTable =\n",
              "            await google.colab.kernel.invokeFunction('convertToInteractive',\n",
              "                                                     [key], {});\n",
              "          if (!dataTable) return;\n",
              "\n",
              "          const docLinkHtml = 'Like what you see? Visit the ' +\n",
              "            '<a target=\"_blank\" href=https://colab.research.google.com/notebooks/data_table.ipynb>data table notebook</a>'\n",
              "            + ' to learn more about interactive tables.';\n",
              "          element.innerHTML = '';\n",
              "          dataTable['output_type'] = 'display_data';\n",
              "          await google.colab.output.renderOutput(dataTable, element);\n",
              "          const docLink = document.createElement('div');\n",
              "          docLink.innerHTML = docLinkHtml;\n",
              "          element.appendChild(docLink);\n",
              "        }\n",
              "      </script>\n",
              "    </div>\n",
              "  </div>\n",
              "  "
            ]
          },
          "metadata": {},
          "execution_count": 24
        }
      ],
      "source": [
        "# convert Unix time into date time object\n",
        "data_deezer['dt_listen'] = pd.to_datetime(data_deezer['ts_listen'], unit='s')\n",
        "data_deezer.head()"
      ]
    },
    {
      "cell_type": "code",
      "execution_count": null,
      "metadata": {
        "colab": {
          "base_uri": "https://localhost:8080/"
        },
        "id": "NBBLks_UfDkL",
        "outputId": "0a6d2b53-b4f1-4b44-9291-5b550bd5d326"
      },
      "outputs": [
        {
          "output_type": "execute_result",
          "data": {
            "text/plain": [
              "dt_listen\n",
              "1970-01-01    194\n",
              "1970-01-02      1\n",
              "1970-01-07      1\n",
              "1970-01-11     53\n",
              "1980-01-06     78\n",
              "Name: media_id, dtype: int64"
            ]
          },
          "metadata": {},
          "execution_count": 25
        }
      ],
      "source": [
        "# grouping data by day (disrregarding time)\n",
        "daily_counts = data_deezer.groupby(data_deezer['dt_listen'].dt.date)['media_id'].count()\n",
        "daily_counts.head()"
      ]
    },
    {
      "cell_type": "markdown",
      "metadata": {
        "id": "-XwGzdLrfDkM"
      },
      "source": [
        "Probably some of the dates were not assigned correctly, since there are songs listened in year of 1970, to find this out we chech yearly counts:"
      ]
    },
    {
      "cell_type": "code",
      "execution_count": null,
      "metadata": {
        "colab": {
          "base_uri": "https://localhost:8080/"
        },
        "id": "FHDUg-pHfDkM",
        "outputId": "a418b867-3be3-47e1-8d61-5a97549acef0"
      },
      "outputs": [
        {
          "output_type": "stream",
          "name": "stdout",
          "text": [
            "dt_listen\n",
            "1970        249\n",
            "1980        379\n",
            "1996          1\n",
            "2001          2\n",
            "2008         19\n",
            "2009         96\n",
            "2010          7\n",
            "2011          7\n",
            "2012          1\n",
            "2013         19\n",
            "2014          3\n",
            "2015         29\n",
            "2016    7558022\n",
            "Name: media_id, dtype: int64\n"
          ]
        }
      ],
      "source": [
        "yearly_counts = data_deezer.groupby(data_deezer['dt_listen'].dt.year)['media_id'].count()\n",
        "print(yearly_counts)"
      ]
    },
    {
      "cell_type": "markdown",
      "metadata": {
        "id": "8d0HiE2QfDkM"
      },
      "source": [
        "Indeed, there are years that not suppoused to be in this dataset. This information should be considered when producing further analysis."
      ]
    },
    {
      "cell_type": "code",
      "execution_count": null,
      "metadata": {
        "colab": {
          "base_uri": "https://localhost:8080/",
          "height": 301
        },
        "id": "YsFFisxrfDkM",
        "outputId": "cd6b077f-bde8-4e45-af9d-80fc7bd4e899"
      },
      "outputs": [
        {
          "output_type": "execute_result",
          "data": {
            "text/plain": [
              "<AxesSubplot:xlabel='dt_listen'>"
            ]
          },
          "metadata": {},
          "execution_count": 27
        },
        {
          "output_type": "display_data",
          "data": {
            "text/plain": [
              "<Figure size 432x288 with 1 Axes>"
            ],
            "image/png": "[encoded data removed]"
          },
          "metadata": {
            "needs_background": "light"
          }
        }
      ],
      "source": [
        "hourly_counts = data_deezer.groupby(data_deezer['dt_listen'].dt.hour)['media_id'].count()\n",
        "hourly_counts.plot(kind='bar')"
      ]
    },
    {
      "cell_type": "markdown",
      "metadata": {
        "id": "ROH78yuifDkM"
      },
      "source": [
        "The most popular listening hours are evening hours, but still there are many people listening to the music by night"
      ]
    },
    {
      "cell_type": "code",
      "execution_count": null,
      "metadata": {
        "colab": {
          "base_uri": "https://localhost:8080/"
        },
        "id": "AFuRCU4WfDkM",
        "outputId": "a451aaaa-e4b8-4ab9-8f6d-0514bd39b570"
      },
      "outputs": [
        {
          "output_type": "stream",
          "name": "stdout",
          "text": [
            "dt_release\n",
            "1900       1554\n",
            "1901        687\n",
            "1902         47\n",
            "1903        405\n",
            "1905         12\n",
            "         ...   \n",
            "2013     495831\n",
            "2014     578543\n",
            "2015     980479\n",
            "2016    2664455\n",
            "2017       1013\n",
            "Name: media_id, Length: 87, dtype: int64\n"
          ]
        }
      ],
      "source": [
        "# exploring release date. It was not possible to convert it into datetime variable because of Out of bounds value timestamp. \n",
        "# so first we remove it\n",
        "mask = data_deezer['release_date'] < 22620411\n",
        "data_deezer = data_deezer[mask]\n",
        "\n",
        "data_deezer['dt_release'] = pd.to_datetime(data_deezer['release_date'].astype(str), format='%Y%m%d')\n",
        "yearly_counts_rel = data_deezer.groupby(data_deezer['dt_release'].dt.year)['media_id'].count()\n",
        "\n",
        "# Print the resulting series\n",
        "print(yearly_counts_rel)"
      ]
    },
    {
      "cell_type": "code",
      "execution_count": null,
      "metadata": {
        "colab": {
          "base_uri": "https://localhost:8080/",
          "height": 306
        },
        "id": "xVezzfP5fDkM",
        "outputId": "a4331300-40b0-45ed-8651-f731bacd471a"
      },
      "outputs": [
        {
          "output_type": "display_data",
          "data": {
            "text/plain": [
              "<Figure size 432x288 with 1 Axes>"
            ],
            "image/png": "[encoded data removed]"
          },
          "metadata": {
            "needs_background": "light"
          }
        }
      ],
      "source": [
        "ax = yearly_counts_rel.plot(x = 'dt_release', y = 'media_id', kind='bar',legend = False)\n",
        "plt.xlabel('Year of release')\n",
        "plt.ylabel('Count')\n",
        "ax.set_xticks([0, len(yearly_counts_rel)-1])  # Set the tick positions to first and last values\n",
        "plt.show()"
      ]
    },
    {
      "cell_type": "markdown",
      "metadata": {
        "id": "oxGsin7KfDkN"
      },
      "source": [
        "The songs released in latest years prevalent in the app "
      ]
    },
    {
      "cell_type": "code",
      "execution_count": null,
      "metadata": {
        "colab": {
          "base_uri": "https://localhost:8080/",
          "height": 284
        },
        "id": "sgdYDmG5fDkN",
        "outputId": "2da7c279-4934-4285-f397-24b7e5fa175c"
      },
      "outputs": [
        {
          "output_type": "execute_result",
          "data": {
            "text/plain": [
              "<AxesSubplot:>"
            ]
          },
          "metadata": {},
          "execution_count": 30
        },
        {
          "output_type": "display_data",
          "data": {
            "text/plain": [
              "<Figure size 432x288 with 1 Axes>"
            ],
            "image/png": "[encoded data removed]"
          },
          "metadata": {
            "needs_background": "light"
          }
        }
      ],
      "source": [
        "# plotting music duration statistics. First removing extreme point of 60000 sec which is probably a typo\n",
        "mask2 = data_deezer['media_duration'] < 50000\n",
        "data_deezer = data_deezer[mask2]\n",
        "data_deezer['media_duration'].plot(kind='box')"
      ]
    },
    {
      "cell_type": "markdown",
      "metadata": {
        "id": "N37Mvr87fDkN"
      },
      "source": [
        "There are many extreme values so we can't clearly see the values of quantiles. To get more information we calculate values:"
      ]
    },
    {
      "cell_type": "code",
      "execution_count": null,
      "metadata": {
        "colab": {
          "base_uri": "https://localhost:8080/"
        },
        "id": "7ntVV0FAfDkN",
        "outputId": "5d05c6a5-2dac-4379-82a5-46635d64f75b"
      },
      "outputs": [
        {
          "output_type": "stream",
          "name": "stdout",
          "text": [
            "Mean: 231.14\n",
            "Minimum: 0\n",
            "Maximum: 9158\n",
            "25th Percentile: 196.0\n",
            "50th Percentile or median: 222.0\n",
            "75th Percentile: 254.0\n"
          ]
        }
      ],
      "source": [
        "# calculate the mean, median, and quantiles of music duration\n",
        "\n",
        "mean = data_deezer['media_duration'].mean()\n",
        "quantiles = data_deezer['media_duration'].quantile([0.25, 0.5, 0.75])\n",
        "minimum = data_deezer['media_duration'].min()\n",
        "maximum = data_deezer['media_duration'].max()\n",
        "\n",
        "# print the results\n",
        "print('Mean:', \"{:.2f}\".format(mean))\n",
        "print('Minimum:', minimum)\n",
        "print('Maximum:', maximum)\n",
        "print('25th Percentile:', quantiles[0.25])\n",
        "print('50th Percentile or median:', quantiles[0.5])\n",
        "print('75th Percentile:', quantiles[0.75])"
      ]
    },
    {
      "cell_type": "markdown",
      "metadata": {
        "id": "AIOL62pZfDkN"
      },
      "source": [
        "Average song duration is almost 4min, however maximum is about 2.5 hours, which is either typo or podcast (if there are podcasts in this set). As for minimum duration, here is 0 seconds, which could be mistaken number again. "
      ]
    },
    {
      "cell_type": "markdown",
      "metadata": {
        "id": "x08C8_UzfDkN"
      },
      "source": [
        "First - rather simple approach is - to start with the User base collaborative filtering."
      ]
    },
    {
      "cell_type": "code",
      "execution_count": null,
      "metadata": {
        "colab": {
          "base_uri": "https://localhost:8080/"
        },
        "id": "ciWRoBY3fDkO",
        "outputId": "5f16e972-57a7-4c0b-fbda-541670f44c82"
      },
      "outputs": [
        {
          "output_type": "stream",
          "name": "stdout",
          "text": [
            "(2267650, 15)\n",
            "2267650\n",
            "2267650\n",
            "   genre_id   ts_listen  media_id  album_id  context_type  release_date  \\\n",
            "0     25471  1480597215    222606     41774            12      20040704   \n",
            "1     25571  1480544735    250467     43941             0      20060301   \n",
            "2        16  1479563953    305197     48078             1      20140714   \n",
            "3         7  1480152098    900502     71521             0      20001030   \n",
            "4         7  1478368974    542335     71718             0      20080215   \n",
            "\n",
            "   platform_name  platform_family  media_duration  listen_type  user_gender  \\\n",
            "0              1                0             223            0            0   \n",
            "1              2                1             171            0            0   \n",
            "2              2                1             149            1            1   \n",
            "3              0                0             240            0            1   \n",
            "4              0                0             150            0            1   \n",
            "\n",
            "   user_id  artist_id  user_age  is_listened  \n",
            "0     9241      55164        29            0  \n",
            "1    16547      55830        30            1  \n",
            "2     7665       2704        29            1  \n",
            "3     1580        938        30            0  \n",
            "4     1812       2939        24            1  \n"
          ]
        }
      ],
      "source": [
        "#using the training dataset\n",
        "import copy\n",
        "train = copy.deepcopy(data_deezer)\n",
        "\n",
        "#reducing the size of the dataset\n",
        "train_reduced = train.sample(frac=0.3)\n",
        "print(train_reduced.shape)\n",
        "print(len(train_reduced[\"user_id\"]))\n",
        "print(len(train_reduced[\"media_id\"]))\n",
        "print(train.head())\n"
      ]
    },
    {
      "cell_type": "markdown",
      "source": [
        "Treating is_listened as an explicit feedback, therefore we are fitting KNN Baseline and BaselinOnline models to whole train data. \n",
        "\n",
        "The KNNBaseline algorithm is based on the K-Nearest Neighbors (KNN) approach to collaborative filtering, where users or items are compared based on their similarity in order to make recommendations. In the case of KNNBaseline, the algorithm computes a baseline rating for each user and item based on the average rating for that user or item, and then computes the similarity between users or items based on the deviations from these baselines.\n",
        "\n",
        "BaselineOnly computes the average rating for each user and item, and using these baselines to make recommendations."
      ],
      "metadata": {
        "id": "dnHdE0z4q7Y2"
      }
    },
    {
      "cell_type": "code",
      "execution_count": null,
      "metadata": {
        "colab": {
          "base_uri": "https://localhost:8080/"
        },
        "id": "iIvww4RdfDkO",
        "outputId": "34f78532-4348-4c16-a201-eda3830f7313"
      },
      "outputs": [
        {
          "output_type": "stream",
          "name": "stdout",
          "text": [
            "Estimating biases using als...\n",
            "Computing the msd similarity matrix...\n",
            "Done computing similarity matrix.\n",
            "Estimating biases using als...\n",
            "Computing the msd similarity matrix...\n",
            "Done computing similarity matrix.\n",
            "Estimating biases using als...\n",
            "Computing the msd similarity matrix...\n",
            "Done computing similarity matrix.\n",
            "Estimating biases using als...\n",
            "Estimating biases using als...\n",
            "Estimating biases using als...\n"
          ]
        }
      ],
      "source": [
        "from surprise import SVD, SVDpp, KNNBaseline, BaselineOnly, KNNBasic, Dataset, Reader, accuracy\n",
        "from surprise.model_selection import train_test_split, cross_validate\n",
        "\n",
        "# Compare performance of two different algorithms\n",
        "reader = Reader(rating_scale = (0, 1))\n",
        "\n",
        "listened = Dataset.load_from_df(train_reduced[['user_id', 'media_id', 'is_listened']], reader)\n",
        "\n",
        "benchmark = []\n",
        "# Iterate over all algorithms\n",
        "for algorithm in [KNNBaseline(), BaselineOnly()]:\n",
        "    results = cross_validate(algorithm, listened, measures=['RMSE'], cv = 3, verbose = False)\n",
        "    \n",
        "    # Get results & append algorithm name\n",
        "    tmp = pd.DataFrame.from_dict(results).mean(axis = 0)\n",
        "    tmp = tmp.append(pd.Series([str(algorithm).split(' ')[0].split('.')[-1]], index = ['Model']))\n",
        "    benchmark.append(tmp)\n",
        "    \n",
        "df_benchmark = pd.DataFrame(benchmark).set_index('Model').sort_values('test_rmse')\n",
        " "
      ]
    },
    {
      "cell_type": "code",
      "source": [
        "#saving the creating df into a csv file\n",
        "drive.mount('/content/drive')\n",
        "path = '/content/drive/My Drive/recom/output.csv'\n",
        "\n",
        "with open(path, 'w', encoding = 'utf-8-sig') as f:\n",
        "  df_benchmark.to_csv(f)"
      ],
      "metadata": {
        "colab": {
          "base_uri": "https://localhost:8080/"
        },
        "id": "FCWLmGLb-3as",
        "outputId": "e8cfb372-6ccb-46f6-ed2d-ee7952a7805a"
      },
      "execution_count": null,
      "outputs": [
        {
          "output_type": "stream",
          "name": "stdout",
          "text": [
            "Mounted at /content/drive\n"
          ]
        }
      ]
    },
    {
      "cell_type": "code",
      "source": [
        "#opening the saved output\n",
        "# Authenticate and create the PyDrive client.\n",
        "auth.authenticate_user()\n",
        "gauth = GoogleAuth()\n",
        "gauth.credentials = GoogleCredentials.get_application_default()\n",
        "drive = GoogleDrive(gauth)\n",
        "\n",
        "#loading the train file from google drive - step 1\n",
        "\n",
        "link_2 = \"https://drive.google.com/file/d/1ipVq2NMnvv8eW5Y5VCKGt4mCQOdQTYUr\"\n",
        "fluff, id_2 = link_2.split('d/')\n",
        "print(id_2) # Verify that you have everything after 'd/'\n",
        "\n",
        "#loading the train file from google drive - step 2\n",
        "downloaded_2 = drive.CreateFile({'id':id_2}) \n",
        "downloaded_2.GetContentFile('output.csv')\n",
        "knn_baseline_results = pd.read_csv(\"output.csv\", keep_default_na=False, na_values=\"NULL\")"
      ],
      "metadata": {
        "colab": {
          "base_uri": "https://localhost:8080/"
        },
        "id": "xU1ArHp8Ado-",
        "outputId": "265048a1-e4b0-46a4-acf3-10998f646943"
      },
      "execution_count": null,
      "outputs": [
        {
          "output_type": "stream",
          "name": "stdout",
          "text": [
            "1ipVq2NMnvv8eW5Y5VCKGt4mCQOdQTYUr\n"
          ]
        }
      ]
    },
    {
      "cell_type": "code",
      "source": [
        "#printing the results\n",
        "print(knn_baseline_results)"
      ],
      "metadata": {
        "colab": {
          "base_uri": "https://localhost:8080/"
        },
        "id": "S_qexF5QBnIi",
        "outputId": "9f29dca4-5d48-4fde-c128-8d95e380d878"
      },
      "execution_count": null,
      "outputs": [
        {
          "output_type": "stream",
          "name": "stdout",
          "text": [
            "          Model  test_rmse   fit_time   test_time\n",
            "0  BaselineOnly   0.410644  11.264328    8.891349\n",
            "1   KNNBaseline   0.424254  67.427076  312.106858\n"
          ]
        }
      ]
    },
    {
      "cell_type": "code",
      "source": [
        "##using SVD++ algorithm\n",
        "\n",
        "reader = Reader(rating_scale = (0, 1))\n",
        "\n",
        "listened_2 = Dataset.load_from_df(train_reduced[['user_id', 'media_id', 'is_listened']], reader)\n",
        "\n",
        "trainset, testset = train_test_split(listened_2, test_size = .2)\n",
        "\n",
        "# We will use the SVD++ algorithm\n",
        "algo = SVDpp()\n",
        "\n",
        "# Train the algorithm on the trainset, and predict 'is_listened' for the testset\n",
        "algo.fit(trainset)\n",
        "predictions = algo.test(testset)\n",
        "\n",
        "# Compute RMSE of predictions\n",
        "accuracy.rmse(predictions) "
      ],
      "metadata": {
        "colab": {
          "base_uri": "https://localhost:8080/"
        },
        "id": "JadEwvH7Wfod",
        "outputId": "43447b7e-f7a7-4f8c-c2f2-e1ecc5070b5e"
      },
      "execution_count": null,
      "outputs": [
        {
          "output_type": "stream",
          "name": "stdout",
          "text": [
            "RMSE: 0.4095\n"
          ]
        },
        {
          "output_type": "execute_result",
          "data": {
            "text/plain": [
              "0.40947584269097337"
            ]
          },
          "metadata": {},
          "execution_count": 24
        }
      ]
    },
    {
      "cell_type": "code",
      "execution_count": null,
      "metadata": {
        "id": "NB9Aot72fDkP"
      },
      "outputs": [],
      "source": []
    }
  ],
  "metadata": {
    "kernelspec": {
      "display_name": "susvenv",
      "language": "python",
      "name": "python3"
    },
    "language_info": {
      "codemirror_mode": {
        "name": "ipython",
        "version": 3
      },
      "file_extension": ".py",
      "mimetype": "text/x-python",
      "name": "python",
      "nbconvert_exporter": "python",
      "pygments_lexer": "ipython3",
      "version": "3.10.8"
    },
    "orig_nbformat": 4,
    "vscode": {
      "interpreter": {
        "hash": "8fc8fc2b0f1809271bb16daf1c9fed1b026dc87d1612df4d5747444a6067b8c6"
      }
    },
    "colab": {
      "provenance": [],
      "history_visible": true,
      "include_colab_link": true
    },
    "accelerator": "GPU",
    "gpuClass": "premium"
  },
  "nbformat": 4,
  "nbformat_minor": 0
}