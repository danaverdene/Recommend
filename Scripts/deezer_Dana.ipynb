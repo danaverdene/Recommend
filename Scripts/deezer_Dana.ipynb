{
 "cells": [
  {
   "attachments": {},
   "cell_type": "markdown",
   "metadata": {},
   "source": [
    "# Recommender system for Deezer dataset "
   ]
  },
  {
   "attachments": {},
   "cell_type": "markdown",
   "metadata": {},
   "source": [
    "The markdown contains of the Deezer dataset analysis. The goal is to produce descriptive statistics in order to get more information about the dataset, with intention to propose a suitable recommender system which would connect app users with songs they will listen. "
   ]
  },
  {
   "attachments": {},
   "cell_type": "markdown",
   "metadata": {},
   "source": [
    "## Descriptive statistics "
   ]
  },
  {
   "cell_type": "code",
   "execution_count": 1,
   "metadata": {},
   "outputs": [],
   "source": [
    "# Load all packages\n",
    "# pip install scikit-surprise\n",
    "import re\n",
    "import os\n",
    "import glob\n",
    "import plotly\n",
    "import pandas as pd\n",
    "import numpy as np\n",
    "import matplotlib.pyplot as plt\n",
    "import seaborn as sns\n",
    "from pathlib import Path\n",
    "import plotly.express as px\n",
    "from datetime import datetime\n",
    "from surprise import Dataset, Reader, SVD\n",
    "from surprise.model_selection import train_test_split\n",
    "from surprise.model_selection import cross_validate\n",
    "from surprise import accuracy\n"
   ]
  },
  {
   "cell_type": "code",
   "execution_count": 94,
   "metadata": {},
   "outputs": [],
   "source": [
    "# Import CSV file\n",
    "data_path_processed = Path(os.path.abspath('')).parent / \"../Data/\"\n",
    "data_deezer = pd.read_csv(f'{data_path_processed}/data_deezer.csv',keep_default_na=False, na_values='NULL')"
   ]
  },
  {
   "cell_type": "code",
   "execution_count": 5,
   "metadata": {},
   "outputs": [
    {
     "name": "stdout",
     "output_type": "stream",
     "text": [
      "In the deezer dataset there are 7558834 observations.\n"
     ]
    }
   ],
   "source": [
    "print(f'In the deezer dataset there are {len(data_deezer)} observations.')"
   ]
  },
  {
   "cell_type": "code",
   "execution_count": 90,
   "metadata": {},
   "outputs": [
    {
     "data": {
      "text/plain": [
       "genre_id           7558834\n",
       "ts_listen          7558834\n",
       "media_id           7558834\n",
       "album_id           7558834\n",
       "context_type       7558834\n",
       "release_date       7558834\n",
       "platform_name      7558834\n",
       "platform_family    7558834\n",
       "media_duration     7558834\n",
       "listen_type        7558834\n",
       "user_gender        7558834\n",
       "user_id            7558834\n",
       "artist_id          7558834\n",
       "user_age           7558834\n",
       "is_listened        7558834\n",
       "dtype: int64"
      ]
     },
     "execution_count": 90,
     "metadata": {},
     "output_type": "execute_result"
    }
   ],
   "source": [
    "data_deezer.count()"
   ]
  },
  {
   "cell_type": "code",
   "execution_count": 3,
   "metadata": {},
   "outputs": [
    {
     "data": {
      "text/html": [
       "<div>\n",
       "<style scoped>\n",
       "    .dataframe tbody tr th:only-of-type {\n",
       "        vertical-align: middle;\n",
       "    }\n",
       "\n",
       "    .dataframe tbody tr th {\n",
       "        vertical-align: top;\n",
       "    }\n",
       "\n",
       "    .dataframe thead th {\n",
       "        text-align: right;\n",
       "    }\n",
       "</style>\n",
       "<table border=\"1\" class=\"dataframe\">\n",
       "  <thead>\n",
       "    <tr style=\"text-align: right;\">\n",
       "      <th></th>\n",
       "      <th>genre_id</th>\n",
       "      <th>ts_listen</th>\n",
       "      <th>media_id</th>\n",
       "      <th>album_id</th>\n",
       "      <th>context_type</th>\n",
       "      <th>release_date</th>\n",
       "      <th>platform_name</th>\n",
       "      <th>platform_family</th>\n",
       "      <th>media_duration</th>\n",
       "      <th>listen_type</th>\n",
       "      <th>user_gender</th>\n",
       "      <th>user_id</th>\n",
       "      <th>artist_id</th>\n",
       "      <th>user_age</th>\n",
       "      <th>is_listened</th>\n",
       "    </tr>\n",
       "  </thead>\n",
       "  <tbody>\n",
       "    <tr>\n",
       "      <th>0</th>\n",
       "      <td>25471</td>\n",
       "      <td>1480597215</td>\n",
       "      <td>222606</td>\n",
       "      <td>41774</td>\n",
       "      <td>12</td>\n",
       "      <td>20040704</td>\n",
       "      <td>1</td>\n",
       "      <td>0</td>\n",
       "      <td>223</td>\n",
       "      <td>0</td>\n",
       "      <td>0</td>\n",
       "      <td>9241</td>\n",
       "      <td>55164</td>\n",
       "      <td>29</td>\n",
       "      <td>0</td>\n",
       "    </tr>\n",
       "    <tr>\n",
       "      <th>1</th>\n",
       "      <td>25571</td>\n",
       "      <td>1480544735</td>\n",
       "      <td>250467</td>\n",
       "      <td>43941</td>\n",
       "      <td>0</td>\n",
       "      <td>20060301</td>\n",
       "      <td>2</td>\n",
       "      <td>1</td>\n",
       "      <td>171</td>\n",
       "      <td>0</td>\n",
       "      <td>0</td>\n",
       "      <td>16547</td>\n",
       "      <td>55830</td>\n",
       "      <td>30</td>\n",
       "      <td>1</td>\n",
       "    </tr>\n",
       "    <tr>\n",
       "      <th>2</th>\n",
       "      <td>16</td>\n",
       "      <td>1479563953</td>\n",
       "      <td>305197</td>\n",
       "      <td>48078</td>\n",
       "      <td>1</td>\n",
       "      <td>20140714</td>\n",
       "      <td>2</td>\n",
       "      <td>1</td>\n",
       "      <td>149</td>\n",
       "      <td>1</td>\n",
       "      <td>1</td>\n",
       "      <td>7665</td>\n",
       "      <td>2704</td>\n",
       "      <td>29</td>\n",
       "      <td>1</td>\n",
       "    </tr>\n",
       "    <tr>\n",
       "      <th>3</th>\n",
       "      <td>7</td>\n",
       "      <td>1480152098</td>\n",
       "      <td>900502</td>\n",
       "      <td>71521</td>\n",
       "      <td>0</td>\n",
       "      <td>20001030</td>\n",
       "      <td>0</td>\n",
       "      <td>0</td>\n",
       "      <td>240</td>\n",
       "      <td>0</td>\n",
       "      <td>1</td>\n",
       "      <td>1580</td>\n",
       "      <td>938</td>\n",
       "      <td>30</td>\n",
       "      <td>0</td>\n",
       "    </tr>\n",
       "    <tr>\n",
       "      <th>4</th>\n",
       "      <td>7</td>\n",
       "      <td>1478368974</td>\n",
       "      <td>542335</td>\n",
       "      <td>71718</td>\n",
       "      <td>0</td>\n",
       "      <td>20080215</td>\n",
       "      <td>0</td>\n",
       "      <td>0</td>\n",
       "      <td>150</td>\n",
       "      <td>0</td>\n",
       "      <td>1</td>\n",
       "      <td>1812</td>\n",
       "      <td>2939</td>\n",
       "      <td>24</td>\n",
       "      <td>1</td>\n",
       "    </tr>\n",
       "    <tr>\n",
       "      <th>5</th>\n",
       "      <td>7</td>\n",
       "      <td>1478382544</td>\n",
       "      <td>542335</td>\n",
       "      <td>71718</td>\n",
       "      <td>0</td>\n",
       "      <td>20080215</td>\n",
       "      <td>0</td>\n",
       "      <td>0</td>\n",
       "      <td>150</td>\n",
       "      <td>0</td>\n",
       "      <td>1</td>\n",
       "      <td>1812</td>\n",
       "      <td>2939</td>\n",
       "      <td>24</td>\n",
       "      <td>1</td>\n",
       "    </tr>\n",
       "    <tr>\n",
       "      <th>6</th>\n",
       "      <td>7</td>\n",
       "      <td>1478338409</td>\n",
       "      <td>542335</td>\n",
       "      <td>71718</td>\n",
       "      <td>0</td>\n",
       "      <td>20080215</td>\n",
       "      <td>0</td>\n",
       "      <td>0</td>\n",
       "      <td>150</td>\n",
       "      <td>0</td>\n",
       "      <td>1</td>\n",
       "      <td>1812</td>\n",
       "      <td>2939</td>\n",
       "      <td>24</td>\n",
       "      <td>1</td>\n",
       "    </tr>\n",
       "    <tr>\n",
       "      <th>7</th>\n",
       "      <td>7</td>\n",
       "      <td>1478353709</td>\n",
       "      <td>542335</td>\n",
       "      <td>71718</td>\n",
       "      <td>1</td>\n",
       "      <td>20080215</td>\n",
       "      <td>1</td>\n",
       "      <td>0</td>\n",
       "      <td>150</td>\n",
       "      <td>1</td>\n",
       "      <td>1</td>\n",
       "      <td>10325</td>\n",
       "      <td>2939</td>\n",
       "      <td>29</td>\n",
       "      <td>1</td>\n",
       "    </tr>\n",
       "    <tr>\n",
       "      <th>8</th>\n",
       "      <td>7</td>\n",
       "      <td>1479130924</td>\n",
       "      <td>542335</td>\n",
       "      <td>71718</td>\n",
       "      <td>0</td>\n",
       "      <td>20080215</td>\n",
       "      <td>0</td>\n",
       "      <td>0</td>\n",
       "      <td>150</td>\n",
       "      <td>0</td>\n",
       "      <td>1</td>\n",
       "      <td>1812</td>\n",
       "      <td>2939</td>\n",
       "      <td>24</td>\n",
       "      <td>1</td>\n",
       "    </tr>\n",
       "    <tr>\n",
       "      <th>9</th>\n",
       "      <td>7</td>\n",
       "      <td>1479214304</td>\n",
       "      <td>542335</td>\n",
       "      <td>71718</td>\n",
       "      <td>1</td>\n",
       "      <td>20080215</td>\n",
       "      <td>1</td>\n",
       "      <td>2</td>\n",
       "      <td>150</td>\n",
       "      <td>1</td>\n",
       "      <td>1</td>\n",
       "      <td>51</td>\n",
       "      <td>2939</td>\n",
       "      <td>28</td>\n",
       "      <td>1</td>\n",
       "    </tr>\n",
       "  </tbody>\n",
       "</table>\n",
       "</div>"
      ],
      "text/plain": [
       "   genre_id   ts_listen  media_id  album_id  context_type  release_date  \\\n",
       "0     25471  1480597215    222606     41774            12      20040704   \n",
       "1     25571  1480544735    250467     43941             0      20060301   \n",
       "2        16  1479563953    305197     48078             1      20140714   \n",
       "3         7  1480152098    900502     71521             0      20001030   \n",
       "4         7  1478368974    542335     71718             0      20080215   \n",
       "5         7  1478382544    542335     71718             0      20080215   \n",
       "6         7  1478338409    542335     71718             0      20080215   \n",
       "7         7  1478353709    542335     71718             1      20080215   \n",
       "8         7  1479130924    542335     71718             0      20080215   \n",
       "9         7  1479214304    542335     71718             1      20080215   \n",
       "\n",
       "   platform_name  platform_family  media_duration  listen_type  user_gender  \\\n",
       "0              1                0             223            0            0   \n",
       "1              2                1             171            0            0   \n",
       "2              2                1             149            1            1   \n",
       "3              0                0             240            0            1   \n",
       "4              0                0             150            0            1   \n",
       "5              0                0             150            0            1   \n",
       "6              0                0             150            0            1   \n",
       "7              1                0             150            1            1   \n",
       "8              0                0             150            0            1   \n",
       "9              1                2             150            1            1   \n",
       "\n",
       "   user_id  artist_id  user_age  is_listened  \n",
       "0     9241      55164        29            0  \n",
       "1    16547      55830        30            1  \n",
       "2     7665       2704        29            1  \n",
       "3     1580        938        30            0  \n",
       "4     1812       2939        24            1  \n",
       "5     1812       2939        24            1  \n",
       "6     1812       2939        24            1  \n",
       "7    10325       2939        29            1  \n",
       "8     1812       2939        24            1  \n",
       "9       51       2939        28            1  "
      ]
     },
     "execution_count": 3,
     "metadata": {},
     "output_type": "execute_result"
    }
   ],
   "source": [
    "data_deezer.head(10)"
   ]
  },
  {
   "attachments": {},
   "cell_type": "markdown",
   "metadata": {},
   "source": [
    "### Data fields\n",
    "media_id - identifiant of the song listened by the user  \n",
    "album_id - identifiant of the album of the song  \n",
    "media_duration - duration of the song  \n",
    "user_gender -  gender of the user  \n",
    "user_id -  anonymized id of the user  \n",
    "context_type - type of content where the song was listened: playlist, album ...  \n",
    "release_date - release date of the song with the format YYYYMMDD  \n",
    "ts_listen - timestamp of the listening in UNIX time  \n",
    "platform_name - type of os  \n",
    "platform_family - type of device  \n",
    "user_age - age of the user  \n",
    "listen_type - if the songs was listened in a flow or not  \n",
    "artist_id - identifiant of the artist of the song  \n",
    "genre_id - identifiant of the genre of the song  \n",
    "is_listened - 1 if the track was listened, 0 otherwise  \n"
   ]
  },
  {
   "attachments": {},
   "cell_type": "markdown",
   "metadata": {},
   "source": [
    "The variable we are interested in is is_listened. If the track was listened by the user for at least 30 seconds the variable has value 1, which means that the recommendation was suitable and matched user preferences. Otherwise the value is 0. The goal is to increase the number of 1."
   ]
  },
  {
   "cell_type": "code",
   "execution_count": 15,
   "metadata": {},
   "outputs": [
    {
     "name": "stdout",
     "output_type": "stream",
     "text": [
      "genre_id: 2922\n",
      "ts_listen: 2256230\n",
      "media_id: 452975\n",
      "album_id: 151471\n",
      "context_type: 74\n",
      "release_date: 8902\n",
      "platform_name: 3\n",
      "platform_family: 3\n",
      "media_duration: 1652\n",
      "listen_type: 2\n",
      "user_gender: 2\n",
      "user_id: 19918\n",
      "artist_id: 67142\n",
      "user_age: 13\n",
      "is_listened: 2\n"
     ]
    }
   ],
   "source": [
    "# counting unique values for each variable\n",
    "for col in data_deezer.columns:\n",
    "    unique_values = data_deezer[col].nunique()\n",
    "    print(f\"{col}: {unique_values}\")"
   ]
  },
  {
   "attachments": {},
   "cell_type": "markdown",
   "metadata": {},
   "source": [
    "In the dataset, we have many unique values for variables, e.g. 2 922 unique types of genres, 67k different artists, almost 20k unique users in 13 different age groups. In order to get better overview, we select few variables and produce visual analysis."
   ]
  },
  {
   "cell_type": "code",
   "execution_count": 136,
   "metadata": {},
   "outputs": [
    {
     "data": {
      "image/png": "[encoded data removed]",
      "text/plain": [
       "<Figure size 640x480 with 1 Axes>"
      ]
     },
     "metadata": {},
     "output_type": "display_data"
    }
   ],
   "source": [
    "# group the data by user_age and count the number of rows in each group\n",
    "age_counts = data_deezer[['user_id', 'user_age']].groupby('user_age').nunique().reset_index()\n",
    "\n",
    "# plot a bar chart\n",
    "age_counts.plot(x = 'user_age', y = 'user_id',kind='bar', legend=False)\n",
    "plt.xlabel('User Age') \n",
    "plt.ylabel('Number of users')\n",
    "plt.show()"
   ]
  },
  {
   "attachments": {},
   "cell_type": "markdown",
   "metadata": {},
   "source": [
    "App users in the dataset are approximately evenly distibuted between age groups. "
   ]
  },
  {
   "cell_type": "code",
   "execution_count": 135,
   "metadata": {},
   "outputs": [
    {
     "data": {
      "image/png": "[encoded data removed]",
      "text/plain": [
       "<Figure size 640x480 with 1 Axes>"
      ]
     },
     "metadata": {},
     "output_type": "display_data"
    }
   ],
   "source": [
    "gender_counts = data_deezer[['user_id', 'user_gender']].groupby('user_gender').nunique().reset_index()\n",
    "\n",
    "# create a plot\n",
    "ax = gender_counts.plot(x = 'user_gender', y = 'user_id', kind='bar',legend = False)\n",
    "plt.ylabel('Number of users')\n",
    "ax.set_xticklabels(['Male', 'Female'])\n",
    "plt.show()"
   ]
  },
  {
   "attachments": {},
   "cell_type": "markdown",
   "metadata": {},
   "source": [
    "Males are prevailing app users."
   ]
  },
  {
   "cell_type": "code",
   "execution_count": 133,
   "metadata": {},
   "outputs": [
    {
     "data": {
      "image/png": "[encoded data removed]",
      "text/plain": [
       "<Figure size 640x480 with 1 Axes>"
      ]
     },
     "metadata": {},
     "output_type": "display_data"
    },
    {
     "name": "stdout",
     "output_type": "stream",
     "text": [
      "1    0.684033\n",
      "0    0.315967\n",
      "Name: is_listened, dtype: float64\n"
     ]
    }
   ],
   "source": [
    "# count the number of occurrences of each value in the is_listened column\n",
    "counts = data_deezer['is_listened'].value_counts()\n",
    "\n",
    "# create a plot\n",
    "counts.plot(kind='bar')\n",
    "plt.ylabel('Number of songs')\n",
    "plt.xticks([0, 1],[\"listened\", \"not listened\"])\n",
    "plt.yticks([0, 1000000, 2000000, 3000000, 4000000, 5000000], [\"0\", \"1B\", \"2B\", \"3B\", \"4B\", \"5B\"])\n",
    "plt.show()\n",
    "\n",
    "proportions = counts / len(data_deezer)\n",
    "print(proportions)"
   ]
  },
  {
   "attachments": {},
   "cell_type": "markdown",
   "metadata": {},
   "source": [
    "Currently, the probability of song to be listened is 68%"
   ]
  },
  {
   "cell_type": "code",
   "execution_count": 158,
   "metadata": {},
   "outputs": [
    {
     "data": {
      "image/png": "[encoded data removed]",
      "text/plain": [
       "<Figure size 640x480 with 1 Axes>"
      ]
     },
     "metadata": {},
     "output_type": "display_data"
    }
   ],
   "source": [
    "# count number of users that listen to the number of songs\n",
    "user_counts = data_deezer[['media_id', 'user_id']].groupby('user_id').count().reset_index().groupby('media_id').count().reset_index() \n",
    "user_counts = user_counts.rename(columns={'media_id':'number_of_songs', 'user_id':'number_of_users'})\n",
    "\n",
    "plt.scatter(y='number_of_songs', x= 'number_of_users', data=user_counts, s = 10)\n",
    "plt.xlabel('Number of users')\n",
    "plt.ylabel('Number of songs')\n",
    "plt.show()\n"
   ]
  },
  {
   "attachments": {},
   "cell_type": "markdown",
   "metadata": {},
   "source": [
    "Here we wanted to analyse how active app users are. From the graph above we see that the large amount of users listen to less than 2000 songs. There are approximately 250 users that don't listen or listen only few songs. Overall, it is hard to draw a conclusion from this graph due to extreme points. So we plot new graph to focus on left lower part of the graph:"
   ]
  },
  {
   "cell_type": "code",
   "execution_count": 157,
   "metadata": {},
   "outputs": [
    {
     "data": {
      "image/png": "[encoded data removed]",
      "text/plain": [
       "<Figure size 640x480 with 1 Axes>"
      ]
     },
     "metadata": {},
     "output_type": "display_data"
    }
   ],
   "source": [
    "plt.scatter(y='number_of_songs', x= 'number_of_users', data=user_counts, s = 10)\n",
    "plt.xlabel('Number of users')\n",
    "plt.ylabel('Number of songs')\n",
    "plt.xlim(0, 100)\n",
    "plt.ylim(0, 1500)\n",
    "plt.show()"
   ]
  },
  {
   "attachments": {},
   "cell_type": "markdown",
   "metadata": {},
   "source": [
    "Basically, the conclusion here could be that users are quite active, for each number of songs value higher than 200 corresponds around 20 or fewer listeners. "
   ]
  },
  {
   "cell_type": "code",
   "execution_count": 160,
   "metadata": {},
   "outputs": [
    {
     "data": {
      "text/html": [
       "<div>\n",
       "<style scoped>\n",
       "    .dataframe tbody tr th:only-of-type {\n",
       "        vertical-align: middle;\n",
       "    }\n",
       "\n",
       "    .dataframe tbody tr th {\n",
       "        vertical-align: top;\n",
       "    }\n",
       "\n",
       "    .dataframe thead th {\n",
       "        text-align: right;\n",
       "    }\n",
       "</style>\n",
       "<table border=\"1\" class=\"dataframe\">\n",
       "  <thead>\n",
       "    <tr style=\"text-align: right;\">\n",
       "      <th></th>\n",
       "      <th>genre_id</th>\n",
       "      <th>ts_listen</th>\n",
       "      <th>media_id</th>\n",
       "      <th>album_id</th>\n",
       "      <th>context_type</th>\n",
       "      <th>release_date</th>\n",
       "      <th>platform_name</th>\n",
       "      <th>platform_family</th>\n",
       "      <th>media_duration</th>\n",
       "      <th>listen_type</th>\n",
       "      <th>user_gender</th>\n",
       "      <th>user_id</th>\n",
       "      <th>artist_id</th>\n",
       "      <th>user_age</th>\n",
       "      <th>is_listened</th>\n",
       "      <th>dt_listen</th>\n",
       "      <th>dt_release</th>\n",
       "    </tr>\n",
       "  </thead>\n",
       "  <tbody>\n",
       "    <tr>\n",
       "      <th>0</th>\n",
       "      <td>25471</td>\n",
       "      <td>1480597215</td>\n",
       "      <td>222606</td>\n",
       "      <td>41774</td>\n",
       "      <td>12</td>\n",
       "      <td>20040704</td>\n",
       "      <td>1</td>\n",
       "      <td>0</td>\n",
       "      <td>223</td>\n",
       "      <td>0</td>\n",
       "      <td>0</td>\n",
       "      <td>9241</td>\n",
       "      <td>55164</td>\n",
       "      <td>29</td>\n",
       "      <td>0</td>\n",
       "      <td>2016-12-01 13:00:15</td>\n",
       "      <td>2004-07-04</td>\n",
       "    </tr>\n",
       "    <tr>\n",
       "      <th>1</th>\n",
       "      <td>25571</td>\n",
       "      <td>1480544735</td>\n",
       "      <td>250467</td>\n",
       "      <td>43941</td>\n",
       "      <td>0</td>\n",
       "      <td>20060301</td>\n",
       "      <td>2</td>\n",
       "      <td>1</td>\n",
       "      <td>171</td>\n",
       "      <td>0</td>\n",
       "      <td>0</td>\n",
       "      <td>16547</td>\n",
       "      <td>55830</td>\n",
       "      <td>30</td>\n",
       "      <td>1</td>\n",
       "      <td>2016-11-30 22:25:35</td>\n",
       "      <td>2006-03-01</td>\n",
       "    </tr>\n",
       "    <tr>\n",
       "      <th>2</th>\n",
       "      <td>16</td>\n",
       "      <td>1479563953</td>\n",
       "      <td>305197</td>\n",
       "      <td>48078</td>\n",
       "      <td>1</td>\n",
       "      <td>20140714</td>\n",
       "      <td>2</td>\n",
       "      <td>1</td>\n",
       "      <td>149</td>\n",
       "      <td>1</td>\n",
       "      <td>1</td>\n",
       "      <td>7665</td>\n",
       "      <td>2704</td>\n",
       "      <td>29</td>\n",
       "      <td>1</td>\n",
       "      <td>2016-11-19 13:59:13</td>\n",
       "      <td>2014-07-14</td>\n",
       "    </tr>\n",
       "    <tr>\n",
       "      <th>3</th>\n",
       "      <td>7</td>\n",
       "      <td>1480152098</td>\n",
       "      <td>900502</td>\n",
       "      <td>71521</td>\n",
       "      <td>0</td>\n",
       "      <td>20001030</td>\n",
       "      <td>0</td>\n",
       "      <td>0</td>\n",
       "      <td>240</td>\n",
       "      <td>0</td>\n",
       "      <td>1</td>\n",
       "      <td>1580</td>\n",
       "      <td>938</td>\n",
       "      <td>30</td>\n",
       "      <td>0</td>\n",
       "      <td>2016-11-26 09:21:38</td>\n",
       "      <td>2000-10-30</td>\n",
       "    </tr>\n",
       "    <tr>\n",
       "      <th>4</th>\n",
       "      <td>7</td>\n",
       "      <td>1478368974</td>\n",
       "      <td>542335</td>\n",
       "      <td>71718</td>\n",
       "      <td>0</td>\n",
       "      <td>20080215</td>\n",
       "      <td>0</td>\n",
       "      <td>0</td>\n",
       "      <td>150</td>\n",
       "      <td>0</td>\n",
       "      <td>1</td>\n",
       "      <td>1812</td>\n",
       "      <td>2939</td>\n",
       "      <td>24</td>\n",
       "      <td>1</td>\n",
       "      <td>2016-11-05 18:02:54</td>\n",
       "      <td>2008-02-15</td>\n",
       "    </tr>\n",
       "  </tbody>\n",
       "</table>\n",
       "</div>"
      ],
      "text/plain": [
       "   genre_id   ts_listen  media_id  album_id  context_type  release_date  \\\n",
       "0     25471  1480597215    222606     41774            12      20040704   \n",
       "1     25571  1480544735    250467     43941             0      20060301   \n",
       "2        16  1479563953    305197     48078             1      20140714   \n",
       "3         7  1480152098    900502     71521             0      20001030   \n",
       "4         7  1478368974    542335     71718             0      20080215   \n",
       "\n",
       "   platform_name  platform_family  media_duration  listen_type  user_gender  \\\n",
       "0              1                0             223            0            0   \n",
       "1              2                1             171            0            0   \n",
       "2              2                1             149            1            1   \n",
       "3              0                0             240            0            1   \n",
       "4              0                0             150            0            1   \n",
       "\n",
       "   user_id  artist_id  user_age  is_listened           dt_listen dt_release  \n",
       "0     9241      55164        29            0 2016-12-01 13:00:15 2004-07-04  \n",
       "1    16547      55830        30            1 2016-11-30 22:25:35 2006-03-01  \n",
       "2     7665       2704        29            1 2016-11-19 13:59:13 2014-07-14  \n",
       "3     1580        938        30            0 2016-11-26 09:21:38 2000-10-30  \n",
       "4     1812       2939        24            1 2016-11-05 18:02:54 2008-02-15  "
      ]
     },
     "execution_count": 160,
     "metadata": {},
     "output_type": "execute_result"
    }
   ],
   "source": [
    "# convert Unix time into date time object\n",
    "data_deezer['dt_listen'] = pd.to_datetime(data_deezer['ts_listen'], unit='s')\n",
    "data_deezer.head()"
   ]
  },
  {
   "cell_type": "code",
   "execution_count": 162,
   "metadata": {},
   "outputs": [
    {
     "data": {
      "text/plain": [
       "dt_listen\n",
       "1970-01-01    194\n",
       "1970-01-02      1\n",
       "1970-01-07      1\n",
       "1970-01-11     53\n",
       "1980-01-06     78\n",
       "Name: media_id, dtype: int64"
      ]
     },
     "execution_count": 162,
     "metadata": {},
     "output_type": "execute_result"
    }
   ],
   "source": [
    "# grouping data by day (disrregarding time)\n",
    "daily_counts = data_deezer.groupby(data_deezer['dt_listen'].dt.date)['media_id'].count()\n",
    "daily_counts.head()"
   ]
  },
  {
   "attachments": {},
   "cell_type": "markdown",
   "metadata": {},
   "source": [
    "Probably some of the dates were not assigned correctly, since there are songs listened in year of 1970, to find this out we chech yearly counts:"
   ]
  },
  {
   "cell_type": "code",
   "execution_count": 105,
   "metadata": {},
   "outputs": [
    {
     "name": "stdout",
     "output_type": "stream",
     "text": [
      "dt_listen\n",
      "1970        249\n",
      "1980        379\n",
      "1996          1\n",
      "2001          2\n",
      "2008         19\n",
      "2009         96\n",
      "2010          7\n",
      "2011          7\n",
      "2012          1\n",
      "2013         19\n",
      "2014          3\n",
      "2015         29\n",
      "2016    7558022\n",
      "Name: media_id, dtype: int64\n"
     ]
    }
   ],
   "source": [
    "yearly_counts = data_deezer.groupby(data_deezer['dt_listen'].dt.year)['media_id'].count()\n",
    "print(yearly_counts)"
   ]
  },
  {
   "attachments": {},
   "cell_type": "markdown",
   "metadata": {},
   "source": [
    "Indeed, there are years that not suppoused to be in this dataset. This information should be considered when producing further analysis."
   ]
  },
  {
   "cell_type": "code",
   "execution_count": 166,
   "metadata": {},
   "outputs": [
    {
     "data": {
      "text/plain": [
       "<AxesSubplot: xlabel='dt_listen'>"
      ]
     },
     "execution_count": 166,
     "metadata": {},
     "output_type": "execute_result"
    },
    {
     "data": {
      "image/png": "[encoded data removed]",
      "text/plain": [
       "<Figure size 640x480 with 1 Axes>"
      ]
     },
     "metadata": {},
     "output_type": "display_data"
    }
   ],
   "source": [
    "hourly_counts = data_deezer.groupby(data_deezer['dt_listen'].dt.hour)['media_id'].count()\n",
    "hourly_counts.plot(kind='bar')"
   ]
  },
  {
   "attachments": {},
   "cell_type": "markdown",
   "metadata": {},
   "source": [
    "The most popular listening hours are evening hours, but still there are many people listening to the music by night"
   ]
  },
  {
   "cell_type": "code",
   "execution_count": 114,
   "metadata": {},
   "outputs": [
    {
     "name": "stdout",
     "output_type": "stream",
     "text": [
      "dt_release\n",
      "1900       1554\n",
      "1901        687\n",
      "1902         47\n",
      "1903        405\n",
      "1905         12\n",
      "         ...   \n",
      "2013     495831\n",
      "2014     578543\n",
      "2015     980479\n",
      "2016    2664455\n",
      "2017       1013\n",
      "Name: media_id, Length: 87, dtype: int64\n"
     ]
    }
   ],
   "source": [
    "# exploring release date. It was not possible to convert it into datetime variable because of Out of bounds value timestamp. \n",
    "# so first we remove it\n",
    "mask = data_deezer['release_date'] < 22620411\n",
    "data_deezer = data_deezer[mask]\n",
    "\n",
    "data_deezer['dt_release'] = pd.to_datetime(data_deezer['release_date'].astype(str), format='%Y%m%d')\n",
    "yearly_counts_rel = data_deezer.groupby(data_deezer['dt_release'].dt.year)['media_id'].count()\n",
    "\n",
    "# Print the resulting series\n",
    "print(yearly_counts_rel)"
   ]
  },
  {
   "cell_type": "code",
   "execution_count": 118,
   "metadata": {},
   "outputs": [
    {
     "data": {
      "image/png": "[encoded data removed]",
      "text/plain": [
       "<Figure size 640x480 with 1 Axes>"
      ]
     },
     "metadata": {},
     "output_type": "display_data"
    }
   ],
   "source": [
    "ax = yearly_counts_rel.plot(x = 'dt_release', y = 'media_id', kind='bar',legend = False)\n",
    "plt.xlabel('Year of release')\n",
    "plt.ylabel('Count')\n",
    "ax.set_xticks([0, len(yearly_counts_rel)-1])  # Set the tick positions to first and last values\n",
    "plt.show()"
   ]
  },
  {
   "attachments": {},
   "cell_type": "markdown",
   "metadata": {},
   "source": [
    "The songs released in latest years prevalent in the app "
   ]
  },
  {
   "cell_type": "code",
   "execution_count": 168,
   "metadata": {},
   "outputs": [
    {
     "data": {
      "text/plain": [
       "<AxesSubplot: >"
      ]
     },
     "execution_count": 168,
     "metadata": {},
     "output_type": "execute_result"
    },
    {
     "data": {
      "image/png": "[encoded data removed]",
      "text/plain": [
       "<Figure size 640x480 with 1 Axes>"
      ]
     },
     "metadata": {},
     "output_type": "display_data"
    }
   ],
   "source": [
    "# plotting music duration statistics. First removing extreme point of 60000 sec which is probably a typo\n",
    "mask2 = data_deezer['media_duration'] < 50000\n",
    "data_deezer = data_deezer[mask2]\n",
    "data_deezer['media_duration'].plot(kind='box')"
   ]
  },
  {
   "attachments": {},
   "cell_type": "markdown",
   "metadata": {},
   "source": [
    "There are many extreme values so we can't clearly see the values of quantiles. To get more information we calculate values:"
   ]
  },
  {
   "cell_type": "code",
   "execution_count": 171,
   "metadata": {},
   "outputs": [
    {
     "name": "stdout",
     "output_type": "stream",
     "text": [
      "Mean: 231.14\n",
      "Minimum: 0\n",
      "Maximum: 9158\n",
      "25th Percentile: 196.0\n",
      "50th Percentile or median: 222.0\n",
      "75th Percentile: 254.0\n"
     ]
    }
   ],
   "source": [
    "# calculate the mean, median, and quantiles of music duration\n",
    "\n",
    "mean = data_deezer['media_duration'].mean()\n",
    "quantiles = data_deezer['media_duration'].quantile([0.25, 0.5, 0.75])\n",
    "minimum = data_deezer['media_duration'].min()\n",
    "maximum = data_deezer['media_duration'].max()\n",
    "\n",
    "# print the results\n",
    "print('Mean:', \"{:.2f}\".format(mean))\n",
    "print('Minimum:', minimum)\n",
    "print('Maximum:', maximum)\n",
    "print('25th Percentile:', quantiles[0.25])\n",
    "print('50th Percentile or median:', quantiles[0.5])\n",
    "print('75th Percentile:', quantiles[0.75])"
   ]
  },
  {
   "attachments": {},
   "cell_type": "markdown",
   "metadata": {},
   "source": [
    "Average song duration is almost 4min, however maximum is about 2.5 hours, which is either typo or podcast (if there are podcasts in this set). As for minimum duration, here is 0 seconds, which could be mistaken number again. "
   ]
  }
 ],
 "metadata": {
  "kernelspec": {
   "display_name": "susenv",
   "language": "python",
   "name": "python3"
  },
  "language_info": {
   "codemirror_mode": {
    "name": "ipython",
    "version": 3
   },
   "file_extension": ".py",
   "mimetype": "text/x-python",
   "name": "python",
   "nbconvert_exporter": "python",
   "pygments_lexer": "ipython3",
   "version": "3.10.8"
  },
  "orig_nbformat": 4,
  "vscode": {
   "interpreter": {
    "hash": "b213d5db0c561df916d2cfcfab3ad3bf2679ef759c392fe4075588cb2fdd25aa"
   }
  }
 },
 "nbformat": 4,
 "nbformat_minor": 2
}
